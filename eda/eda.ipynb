import pandas as pd
import matplotlib.pyplot as plt
import seaborn as sns

# Load the cleaned data
df = pd.read_csv("../data/transformed/london_weather_cleaned.csv")

# Convert date to datetime and set index
df["date"] = pd.to_datetime(df["date"])
df.set_index("date", inplace=True)

# Quick peek
df.head()
